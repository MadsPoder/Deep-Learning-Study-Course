{
 "cells": [
  {
   "cell_type": "code",
   "execution_count": 2,
   "metadata": {},
   "outputs": [
    {
     "name": "stderr",
     "output_type": "stream",
     "text": [
      "/home/madspoderpetersen/deep-traffic/venv/lib/python3.5/site-packages/h5py/__init__.py:36: FutureWarning: Conversion of the second argument of issubdtype from `float` to `np.floating` is deprecated. In future, it will be treated as `np.float64 == np.dtype(float).type`.\n",
      "  from ._conv import register_converters as _register_converters\n",
      "Using TensorFlow backend.\n",
      "/home/madspoderpetersen/deep-traffic/venv/lib/python3.5/site-packages/keras/models.py:255: UserWarning: No training configuration found in save file: the model was *not* compiled. Compile it manually.\n",
      "  warnings.warn('No training configuration found in save file: '\n"
     ]
    }
   ],
   "source": [
    "import os\n",
    "import keras\n",
    "import numpy as np\n",
    "from PIL import Image\n",
    "import tensorflow as tf\n",
    "from keras_retinanet.models import load_model, backbone, resnet\n",
    "from keras_retinanet.utils.image import read_image_bgr\n",
    "from shared import get_session\n",
    "import matplotlib.pyplot as plt\n",
    "\n",
    "NUM_OF_CLASSES = 40\n",
    "BASE_DIR = os.getcwd()\n",
    "MODEL_PATH = os.path.join(BASE_DIR, 'snapshots', 'custom_resnet50_10_test.h5')\n",
    "DATASET_DIR = os.path.join(BASE_DIR, 'datasets', 'GTSDB', 'FullIJCNN2013')\n",
    "TEST_IMAGE = os.path.join(DATASET_DIR, '00001.ppm')\n",
    "\n",
    "#Initialise\n",
    "keras.backend.tensorflow_backend.set_session(get_session())\n",
    "\n",
    "#Imagenet as base\n",
    "imgnet_clean = resnet.resnet_retinanet(NUM_OF_CLASSES)\n",
    "backbone = backbone('resnet50')\n",
    "imgnet_weights = backbone.download_imagenet()\n",
    "imgnet_clean.load_weights(imgnet_weights, skip_mismatch=True, by_name=True)\n",
    "\n",
    "#Scratch\n",
    "scratch = resnet.resnet_retinanet(NUM_OF_CLASSES)\n",
    "\n",
    "#Trained on traffic signs\n",
    "model = load_model(MODEL_PATH)"
   ]
  },
  {
   "cell_type": "code",
   "execution_count": 6,
   "metadata": {},
   "outputs": [],
   "source": [
    "#print([layer.name for layer in model.layers])\n",
    "#layers = list(map(lambda x: \"Layer: \"+x.name + \"shape: \"+ str(np.asarray(x.get_weights()).shape), model.layers))\n",
    "#for layer in layers:\n",
    "#    print(layer)\n",
    "\n",
    "def plot_conv1_weights(weights):\n",
    "    fig, ax = plt.subplots(figsize=(5, 5),nrows=8, ncols=8)\n",
    "    for i, ax in enumerate(ax.reshape(-1)):\n",
    "        imgArray = weights[0,:,:,:,i]\n",
    "        # unity-based normalization https://datascience.stackexchange.com/a/5888\n",
    "        imgArray = (imgArray - np.min(imgArray)) / (np.max(imgArray) - np.min(imgArray))\n",
    "        ax.imshow(imgArray)\n",
    "        ax.axis('off')\n",
    "    plt.show()"
   ]
  },
  {
   "cell_type": "code",
   "execution_count": 5,
   "metadata": {},
   "outputs": [],
   "source": [
    "#trained_model_conv1_weights = np.asarray(model.get_layer('conv1').get_weights())\n",
    "#imagenet_model_conv1_weights = np.asarray(imgnet_clean.get_layer('conv1').get_weights())\n",
    "#scratch_model_conv1_weights = np.asarray(scratch.get_layer('conv1').get_weights())\n",
    "\n",
    "#plot_conv1_weights(trained_model_conv1_weights)\n",
    "#plot_conv1_weights(imagenet_model_conv1_weights)\n",
    "#plot_conv1_weights(scratch_model_conv1_weights)"
   ]
  },
  {
   "cell_type": "code",
   "execution_count": null,
   "metadata": {},
   "outputs": [],
   "source": []
  }
 ],
 "metadata": {
  "kernelspec": {
   "display_name": "Python 3",
   "language": "python",
   "name": "python3"
  },
  "language_info": {
   "codemirror_mode": {
    "name": "ipython",
    "version": 3
   },
   "file_extension": ".py",
   "mimetype": "text/x-python",
   "name": "python",
   "nbconvert_exporter": "python",
   "pygments_lexer": "ipython3",
   "version": "3.5.2"
  }
 },
 "nbformat": 4,
 "nbformat_minor": 2
}
