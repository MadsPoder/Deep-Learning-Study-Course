{
 "cells": [
  {
   "cell_type": "code",
   "execution_count": null,
   "metadata": {},
   "outputs": [
    {
     "name": "stderr",
     "output_type": "stream",
     "text": [
      "/home/madspoderpetersen/deep-traffic/venv/lib/python3.5/site-packages/keras/models.py:291: UserWarning: Error in loading the saved optimizer state. As a result, your model is starting with a freshly initialized optimizer.\n",
      "  warnings.warn('Error in loading the saved optimizer '\n"
     ]
    },
    {
     "name": "stdout",
     "output_type": "stream",
     "text": [
      "179/310\r"
     ]
    }
   ],
   "source": [
    "import os\n",
    "import keras\n",
    "import numpy as np\n",
    "from keras_retinanet.utils.eval import evaluate\n",
    "from keras_retinanet.preprocessing.csv_generator import CSVGenerator\n",
    "from keras_retinanet import models\n",
    "from shared import get_session\n",
    "from paths import *\n",
    "\n",
    "MODEL_PATH = os.path.join(SNAPSHOTS_DIR, 'custom_resnet50_imgnet_70.h5')\n",
    "\n",
    "keras.backend.tensorflow_backend.set_session(get_session())\n",
    "model = models.load_model(MODEL_PATH, convert=True)\n",
    "\n",
    "test_generator = CSVGenerator(\n",
    "        TEST_GROUND_TRUTH_COMBINED,\n",
    "        CLASS_MAPPINGS_COMBINED,\n",
    "        shuffle_groups=False,\n",
    "        batch_size=4,\n",
    "    )\n",
    "\n",
    "#Default values from callbacks\n",
    "average_precisions = evaluate(\n",
    "            test_generator,\n",
    "            model,\n",
    "            iou_threshold=0.5,\n",
    "            score_threshold=0.05,\n",
    "            max_detections=100,\n",
    "            save_path=None\n",
    "        )\n",
    "\n",
    "for idx, val in enumerate(average_precisions.values()):\n",
    "    print(\"Class {} avg score: {}\".format(idx, val))"
   ]
  },
  {
   "cell_type": "code",
   "execution_count": null,
   "metadata": {},
   "outputs": [],
   "source": []
  }
 ],
 "metadata": {
  "kernelspec": {
   "display_name": "Python 3",
   "language": "python",
   "name": "python3"
  },
  "language_info": {
   "codemirror_mode": {
    "name": "ipython",
    "version": 3
   },
   "file_extension": ".py",
   "mimetype": "text/x-python",
   "name": "python",
   "nbconvert_exporter": "python",
   "pygments_lexer": "ipython3",
   "version": "3.5.2"
  }
 },
 "nbformat": 4,
 "nbformat_minor": 2
}
